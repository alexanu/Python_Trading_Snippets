{
 "cells": [
  {
   "cell_type": "markdown",
   "metadata": {},
   "source": [
    "# Case Study A-Z: A Machine Learning powered Strategy (DNN)"
   ]
  },
  {
   "cell_type": "markdown",
   "metadata": {},
   "source": [
    "_Disclaimer: <br>\n",
    "The following illustrative example is for general information and educational purposes only. <br>\n",
    "It is neither investment advice nor a recommendation to trade, invest or take whatsoever actions.<br>\n",
    "The below code should only be used in combination with an Oanda/FXCM Practice/Demo Account and NOT with a Live Trading Account._"
   ]
  },
  {
   "cell_type": "markdown",
   "metadata": {},
   "source": [
    "## Getting and Preparing the Data"
   ]
  },
  {
   "cell_type": "code",
   "execution_count": null,
   "metadata": {},
   "outputs": [],
   "source": [
    "import pandas as pd\n",
    "import numpy as np\n",
    "import matplotlib.pyplot as plt\n",
    "plt.style.use(\"seaborn\")\n",
    "pd.set_option('display.float_format', lambda x: '%.5f' % x)"
   ]
  },
  {
   "cell_type": "code",
   "execution_count": null,
   "metadata": {},
   "outputs": [],
   "source": [
    "data = pd.read_csv(\"DNN_data.csv\", parse_dates = [\"time\"], index_col = \"time\")"
   ]
  },
  {
   "cell_type": "code",
   "execution_count": null,
   "metadata": {},
   "outputs": [],
   "source": [
    "data "
   ]
  },
  {
   "cell_type": "code",
   "execution_count": null,
   "metadata": {},
   "outputs": [],
   "source": [
    "data.info()"
   ]
  },
  {
   "cell_type": "code",
   "execution_count": null,
   "metadata": {},
   "outputs": [],
   "source": [
    "symbol = data.columns[0]\n",
    "symbol"
   ]
  },
  {
   "cell_type": "code",
   "execution_count": null,
   "metadata": {},
   "outputs": [],
   "source": [
    "data.plot(figsize = (12, 8))\n",
    "plt.show()"
   ]
  },
  {
   "cell_type": "code",
   "execution_count": null,
   "metadata": {},
   "outputs": [],
   "source": [
    "data[\"returns\"] = np.log(data[symbol] / data[symbol].shift())"
   ]
  },
  {
   "cell_type": "code",
   "execution_count": null,
   "metadata": {},
   "outputs": [],
   "source": [
    "data"
   ]
  },
  {
   "cell_type": "code",
   "execution_count": null,
   "metadata": {},
   "outputs": [],
   "source": []
  },
  {
   "cell_type": "markdown",
   "metadata": {},
   "source": [
    "## Adding Label/Features"
   ]
  },
  {
   "cell_type": "code",
   "execution_count": null,
   "metadata": {},
   "outputs": [],
   "source": [
    "window = 50"
   ]
  },
  {
   "cell_type": "code",
   "execution_count": null,
   "metadata": {},
   "outputs": [],
   "source": [
    "df = data.copy()\n",
    "df[\"dir\"] = np.where(df[\"returns\"] > 0, 1, 0)\n",
    "df[\"sma\"] = df[symbol].rolling(window).mean() - df[symbol].rolling(150).mean()\n",
    "df[\"boll\"] = (df[symbol] - df[symbol].rolling(window).mean()) / df[symbol].rolling(window).std()\n",
    "df[\"min\"] = df[symbol].rolling(window).min() / df[symbol] - 1\n",
    "df[\"max\"] = df[symbol].rolling(window).max() / df[symbol] - 1\n",
    "df[\"mom\"] = df[\"returns\"].rolling(3).mean()\n",
    "df[\"vol\"] = df[\"returns\"].rolling(window).std()\n",
    "df.dropna(inplace = True)"
   ]
  },
  {
   "cell_type": "code",
   "execution_count": null,
   "metadata": {},
   "outputs": [],
   "source": [
    "df"
   ]
  },
  {
   "cell_type": "code",
   "execution_count": null,
   "metadata": {},
   "outputs": [],
   "source": []
  },
  {
   "cell_type": "markdown",
   "metadata": {},
   "source": [
    "## Adding Feature lags"
   ]
  },
  {
   "cell_type": "code",
   "execution_count": null,
   "metadata": {},
   "outputs": [],
   "source": [
    "lags = 5"
   ]
  },
  {
   "cell_type": "code",
   "execution_count": null,
   "metadata": {},
   "outputs": [],
   "source": [
    "cols = []\n",
    "features = [\"dir\", \"sma\", \"boll\", \"min\", \"max\", \"mom\", \"vol\"]"
   ]
  },
  {
   "cell_type": "code",
   "execution_count": null,
   "metadata": {},
   "outputs": [],
   "source": [
    "for f in features:\n",
    "        for lag in range(1, lags + 1):\n",
    "            col = \"{}_lag_{}\".format(f, lag)\n",
    "            df[col] = df[f].shift(lag)\n",
    "            cols.append(col)\n",
    "df.dropna(inplace = True)"
   ]
  },
  {
   "cell_type": "code",
   "execution_count": null,
   "metadata": {},
   "outputs": [],
   "source": [
    "df"
   ]
  },
  {
   "cell_type": "code",
   "execution_count": null,
   "metadata": {},
   "outputs": [],
   "source": [
    "df.info()"
   ]
  },
  {
   "cell_type": "code",
   "execution_count": null,
   "metadata": {},
   "outputs": [],
   "source": [
    "len(cols)"
   ]
  },
  {
   "cell_type": "code",
   "execution_count": null,
   "metadata": {},
   "outputs": [],
   "source": []
  },
  {
   "cell_type": "markdown",
   "metadata": {},
   "source": [
    "## Splitting into Train and Test Set"
   ]
  },
  {
   "cell_type": "code",
   "execution_count": null,
   "metadata": {},
   "outputs": [],
   "source": [
    "len(df)"
   ]
  },
  {
   "cell_type": "code",
   "execution_count": null,
   "metadata": {},
   "outputs": [],
   "source": [
    "split = int(len(df)*0.66)\n",
    "split"
   ]
  },
  {
   "cell_type": "code",
   "execution_count": null,
   "metadata": {},
   "outputs": [],
   "source": [
    "train = df.iloc[:split].copy()\n",
    "train"
   ]
  },
  {
   "cell_type": "code",
   "execution_count": null,
   "metadata": {},
   "outputs": [],
   "source": [
    "test = df.iloc[split:].copy()\n",
    "test"
   ]
  },
  {
   "cell_type": "code",
   "execution_count": null,
   "metadata": {},
   "outputs": [],
   "source": []
  },
  {
   "cell_type": "markdown",
   "metadata": {},
   "source": [
    "## Feature Scaling (Standardization)"
   ]
  },
  {
   "cell_type": "code",
   "execution_count": null,
   "metadata": {},
   "outputs": [],
   "source": [
    "train[cols]"
   ]
  },
  {
   "cell_type": "code",
   "execution_count": null,
   "metadata": {},
   "outputs": [],
   "source": [
    "mu, std = train.mean(), train.std() # train set parameters (mu, std) for standardization"
   ]
  },
  {
   "cell_type": "code",
   "execution_count": null,
   "metadata": {},
   "outputs": [],
   "source": [
    "std"
   ]
  },
  {
   "cell_type": "code",
   "execution_count": null,
   "metadata": {},
   "outputs": [],
   "source": [
    "train_s = (train - mu) / std # standardization of train set features"
   ]
  },
  {
   "cell_type": "code",
   "execution_count": null,
   "metadata": {},
   "outputs": [],
   "source": [
    "train_s"
   ]
  },
  {
   "cell_type": "code",
   "execution_count": null,
   "metadata": {},
   "outputs": [],
   "source": [
    "train_s.describe()"
   ]
  },
  {
   "cell_type": "code",
   "execution_count": null,
   "metadata": {},
   "outputs": [],
   "source": []
  },
  {
   "cell_type": "markdown",
   "metadata": {},
   "source": [
    "## Creating and Fitting the DNN Model"
   ]
  },
  {
   "cell_type": "code",
   "execution_count": null,
   "metadata": {},
   "outputs": [],
   "source": [
    "from DNNModel import *"
   ]
  },
  {
   "cell_type": "code",
   "execution_count": null,
   "metadata": {},
   "outputs": [],
   "source": [
    "# fitting a DNN model with 3 Hidden Layers (50 nodes each) and dropout regularization\n",
    "\n",
    "set_seeds(100)\n",
    "model = create_model(hl = 3, hu = 50, dropout = True, input_dim = len(cols))\n",
    "model.fit(x = train_s[cols], y = train[\"dir\"], epochs = 50, verbose = False,\n",
    "          validation_split = 0.2, shuffle = False, class_weight = cw(train))"
   ]
  },
  {
   "cell_type": "code",
   "execution_count": null,
   "metadata": {},
   "outputs": [],
   "source": [
    "model.evaluate(train_s[cols], train[\"dir\"]) # evaluate the fit on the train set"
   ]
  },
  {
   "cell_type": "code",
   "execution_count": null,
   "metadata": {},
   "outputs": [],
   "source": [
    "pred = model.predict(train_s[cols]) # prediction (probabilities)\n",
    "pred"
   ]
  },
  {
   "cell_type": "code",
   "execution_count": null,
   "metadata": {},
   "outputs": [],
   "source": [
    "plt.hist(pred, bins = 50)\n",
    "plt.show()"
   ]
  },
  {
   "cell_type": "code",
   "execution_count": null,
   "metadata": {},
   "outputs": [],
   "source": []
  },
  {
   "cell_type": "markdown",
   "metadata": {},
   "source": [
    "## Out-Sample Prediction and Forward Testing"
   ]
  },
  {
   "cell_type": "code",
   "execution_count": null,
   "metadata": {},
   "outputs": [],
   "source": [
    "test"
   ]
  },
  {
   "cell_type": "code",
   "execution_count": null,
   "metadata": {},
   "outputs": [],
   "source": [
    "test_s = (test - mu) / std # standardization of test set features (with train set parameters!!!)"
   ]
  },
  {
   "cell_type": "code",
   "execution_count": null,
   "metadata": {},
   "outputs": [],
   "source": [
    "model.evaluate(test_s[cols], test[\"dir\"])"
   ]
  },
  {
   "cell_type": "code",
   "execution_count": null,
   "metadata": {},
   "outputs": [],
   "source": [
    "pred = model.predict(test_s[cols])\n",
    "pred"
   ]
  },
  {
   "cell_type": "code",
   "execution_count": null,
   "metadata": {},
   "outputs": [],
   "source": [
    "plt.hist(pred, bins = 50);"
   ]
  },
  {
   "cell_type": "code",
   "execution_count": null,
   "metadata": {},
   "outputs": [],
   "source": [
    "test[\"proba\"] = model.predict(test_s[cols])"
   ]
  },
  {
   "cell_type": "code",
   "execution_count": null,
   "metadata": {},
   "outputs": [],
   "source": [
    "test[\"position\"] = np.where(test.proba < 0.47, -1, np.nan) # 1. short where proba < 0.47"
   ]
  },
  {
   "cell_type": "code",
   "execution_count": null,
   "metadata": {},
   "outputs": [],
   "source": [
    "test[\"position\"] = np.where(test.proba > 0.53, 1, test.position) # 2. long where proba > 0.53"
   ]
  },
  {
   "cell_type": "code",
   "execution_count": null,
   "metadata": {},
   "outputs": [],
   "source": [
    "test.index = test.index.tz_localize(\"UTC\")\n",
    "test[\"NYTime\"] = test.index.tz_convert(\"America/New_York\")\n",
    "test[\"hour\"] = test.NYTime.dt.hour"
   ]
  },
  {
   "cell_type": "code",
   "execution_count": null,
   "metadata": {},
   "outputs": [],
   "source": [
    "test[\"position\"] = np.where(~test.hour.between(2, 12), 0, test.position) # 3. neutral in non-busy hours"
   ]
  },
  {
   "cell_type": "code",
   "execution_count": null,
   "metadata": {},
   "outputs": [],
   "source": [
    "test[\"position\"] = test.position.ffill().fillna(0) # 4. in all other cases: hold position"
   ]
  },
  {
   "cell_type": "code",
   "execution_count": null,
   "metadata": {},
   "outputs": [],
   "source": [
    "test.position.value_counts(dropna = False)"
   ]
  },
  {
   "cell_type": "code",
   "execution_count": null,
   "metadata": {},
   "outputs": [],
   "source": [
    "test[\"strategy\"] = test[\"position\"] * test[\"returns\"]"
   ]
  },
  {
   "cell_type": "code",
   "execution_count": null,
   "metadata": {},
   "outputs": [],
   "source": [
    "test[\"creturns\"] = test[\"returns\"].cumsum().apply(np.exp)\n",
    "test[\"cstrategy\"] = test[\"strategy\"].cumsum().apply(np.exp)"
   ]
  },
  {
   "cell_type": "code",
   "execution_count": null,
   "metadata": {},
   "outputs": [],
   "source": [
    "test[[\"creturns\", \"cstrategy\"]].plot(figsize = (12, 8))\n",
    "plt.show()"
   ]
  },
  {
   "cell_type": "code",
   "execution_count": null,
   "metadata": {},
   "outputs": [],
   "source": [
    "ptc = 0.000059"
   ]
  },
  {
   "cell_type": "code",
   "execution_count": null,
   "metadata": {},
   "outputs": [],
   "source": [
    "test[\"trades\"] = test.position.diff().abs()"
   ]
  },
  {
   "cell_type": "code",
   "execution_count": null,
   "metadata": {},
   "outputs": [],
   "source": [
    "test.trades.value_counts()"
   ]
  },
  {
   "cell_type": "code",
   "execution_count": null,
   "metadata": {},
   "outputs": [],
   "source": [
    "test[\"strategy_net\"] = test.strategy - test.trades * ptc"
   ]
  },
  {
   "cell_type": "code",
   "execution_count": null,
   "metadata": {},
   "outputs": [],
   "source": [
    "test[\"cstrategy_net\"] = test[\"strategy_net\"].cumsum().apply(np.exp)"
   ]
  },
  {
   "cell_type": "code",
   "execution_count": null,
   "metadata": {},
   "outputs": [],
   "source": [
    "test[[\"creturns\", \"cstrategy\", \"cstrategy_net\"]].plot(figsize = (12, 8))\n",
    "plt.show()"
   ]
  },
  {
   "cell_type": "code",
   "execution_count": null,
   "metadata": {},
   "outputs": [],
   "source": []
  },
  {
   "cell_type": "markdown",
   "metadata": {},
   "source": [
    "## Saving Model and Parameters"
   ]
  },
  {
   "cell_type": "code",
   "execution_count": null,
   "metadata": {},
   "outputs": [],
   "source": [
    "model"
   ]
  },
  {
   "cell_type": "code",
   "execution_count": null,
   "metadata": {},
   "outputs": [],
   "source": [
    "mu"
   ]
  },
  {
   "cell_type": "code",
   "execution_count": null,
   "metadata": {},
   "outputs": [],
   "source": [
    "std"
   ]
  },
  {
   "cell_type": "code",
   "execution_count": null,
   "metadata": {},
   "outputs": [],
   "source": [
    "model.save(\"DNN_model\")"
   ]
  },
  {
   "cell_type": "code",
   "execution_count": null,
   "metadata": {},
   "outputs": [],
   "source": [
    "import pickle"
   ]
  },
  {
   "cell_type": "code",
   "execution_count": null,
   "metadata": {},
   "outputs": [],
   "source": [
    "params = {\"mu\":mu, \"std\":std}"
   ]
  },
  {
   "cell_type": "code",
   "execution_count": null,
   "metadata": {},
   "outputs": [],
   "source": [
    "params"
   ]
  },
  {
   "cell_type": "code",
   "execution_count": null,
   "metadata": {},
   "outputs": [],
   "source": [
    "pickle.dump(params, open(\"params.pkl\", \"wb\"))"
   ]
  },
  {
   "cell_type": "code",
   "execution_count": null,
   "metadata": {},
   "outputs": [],
   "source": []
  },
  {
   "cell_type": "markdown",
   "metadata": {},
   "source": [
    "## Implementation"
   ]
  },
  {
   "cell_type": "code",
   "execution_count": null,
   "metadata": {},
   "outputs": [],
   "source": [
    "import pandas as pd\n",
    "import numpy as np\n",
    "import tpqoa\n",
    "import fxcmpy\n",
    "from datetime import datetime, timedelta\n",
    "import time"
   ]
  },
  {
   "cell_type": "markdown",
   "metadata": {},
   "source": [
    "__Loading Model and Parameters__"
   ]
  },
  {
   "cell_type": "code",
   "execution_count": null,
   "metadata": {},
   "outputs": [],
   "source": [
    "# Loading the model\n",
    "import keras\n",
    "model = keras.models.load_model(\"DNN_model\")"
   ]
  },
  {
   "cell_type": "code",
   "execution_count": null,
   "metadata": {},
   "outputs": [],
   "source": [
    "model"
   ]
  },
  {
   "cell_type": "code",
   "execution_count": null,
   "metadata": {},
   "outputs": [],
   "source": [
    "# Loading mu and std\n",
    "import pickle\n",
    "params = pickle.load(open(\"params.pkl\", \"rb\"))\n",
    "mu = params[\"mu\"]\n",
    "std = params[\"std\"]"
   ]
  },
  {
   "cell_type": "code",
   "execution_count": null,
   "metadata": {},
   "outputs": [],
   "source": [
    "mu"
   ]
  },
  {
   "cell_type": "code",
   "execution_count": null,
   "metadata": {},
   "outputs": [],
   "source": [
    "std"
   ]
  },
  {
   "cell_type": "markdown",
   "metadata": {},
   "source": [
    "__[Oanda] Implementation__"
   ]
  },
  {
   "cell_type": "code",
   "execution_count": null,
   "metadata": {},
   "outputs": [],
   "source": [
    "class DNNTrader(tpqoa.tpqoa):\n",
    "    def __init__(self, conf_file, instrument, bar_length, window, lags, model, mu, std, units):\n",
    "        super().__init__(conf_file)\n",
    "        self.instrument = instrument\n",
    "        self.bar_length = pd.to_timedelta(bar_length)\n",
    "        self.tick_data = pd.DataFrame()\n",
    "        self.raw_data = None\n",
    "        self.data = None \n",
    "        self.last_bar = None\n",
    "        self.units = units\n",
    "        self.position = 0\n",
    "        self.profits = []\n",
    "        \n",
    "        #*****************add strategy-specific attributes here******************\n",
    "        self.window = window\n",
    "        self.lags = lags\n",
    "        self.model = model\n",
    "        self.mu = mu\n",
    "        self.std = std\n",
    "        #************************************************************************\n",
    "    \n",
    "    def get_most_recent(self, days = 5):\n",
    "        while True:\n",
    "            time.sleep(2)\n",
    "            now = datetime.utcnow()\n",
    "            now = now - timedelta(microseconds = now.microsecond)\n",
    "            past = now - timedelta(days = days)\n",
    "            df = self.get_history(instrument = self.instrument, start = past, end = now,\n",
    "                                   granularity = \"S5\", price = \"M\", localize = False).c.dropna().to_frame()\n",
    "            df.rename(columns = {\"c\":self.instrument}, inplace = True)\n",
    "            df = df.resample(self.bar_length, label = \"right\").last().dropna().iloc[:-1]\n",
    "            self.raw_data = df.copy()\n",
    "            self.last_bar = self.raw_data.index[-1]\n",
    "            if pd.to_datetime(datetime.utcnow()).tz_localize(\"UTC\") - self.last_bar < self.bar_length:\n",
    "                self.start_time = pd.to_datetime(datetime.utcnow()).tz_localize(\"UTC\") # NEW -> Start Time of Trading Session\n",
    "                break\n",
    "                \n",
    "    def on_success(self, time, bid, ask):\n",
    "        print(self.ticks, end = \" \")\n",
    "        \n",
    "        recent_tick = pd.to_datetime(time)\n",
    "        df = pd.DataFrame({self.instrument:(ask + bid)/2}, \n",
    "                          index = [recent_tick])\n",
    "        self.tick_data = self.tick_data.append(df)\n",
    "        \n",
    "        if recent_tick - self.last_bar > self.bar_length:\n",
    "            self.resample_and_join()\n",
    "            self.define_strategy()\n",
    "            self.execute_trades()\n",
    "    \n",
    "    def resample_and_join(self):\n",
    "        self.raw_data = self.raw_data.append(self.tick_data.resample(self.bar_length, \n",
    "                                                                  label=\"right\").last().ffill().iloc[:-1])\n",
    "        self.tick_data = self.tick_data.iloc[-1:]\n",
    "        self.last_bar = self.raw_data.index[-1]\n",
    "    \n",
    "    def define_strategy(self): # \"strategy-specific\"\n",
    "        df = self.raw_data.copy()\n",
    "        \n",
    "        #******************** define your strategy here ************************\n",
    "        #create features\n",
    "        df = df.append(self.tick_data) # append latest tick (== open price of current bar)\n",
    "        df[\"returns\"] = np.log(df[self.instrument] / df[self.instrument].shift())\n",
    "        df[\"dir\"] = np.where(df[\"returns\"] > 0, 1, 0)\n",
    "        df[\"sma\"] = df[self.instrument].rolling(self.window).mean() - df[self.instrument].rolling(150).mean()\n",
    "        df[\"boll\"] = (df[self.instrument] - df[self.instrument].rolling(self.window).mean()) / df[self.instrument].rolling(self.window).std()\n",
    "        df[\"min\"] = df[self.instrument].rolling(self.window).min() / df[self.instrument] - 1\n",
    "        df[\"max\"] = df[self.instrument].rolling(self.window).max() / df[self.instrument] - 1\n",
    "        df[\"mom\"] = df[\"returns\"].rolling(3).mean()\n",
    "        df[\"vol\"] = df[\"returns\"].rolling(self.window).std()\n",
    "        df.dropna(inplace = True)\n",
    "        \n",
    "        # create lags\n",
    "        self.cols = []\n",
    "        features = [\"dir\", \"sma\", \"boll\", \"min\", \"max\", \"mom\", \"vol\"]\n",
    "\n",
    "        for f in features:\n",
    "            for lag in range(1, self.lags + 1):\n",
    "                col = \"{}_lag_{}\".format(f, lag)\n",
    "                df[col] = df[f].shift(lag)\n",
    "                self.cols.append(col)\n",
    "        df.dropna(inplace = True)\n",
    "        \n",
    "        # standardization\n",
    "        df_s = (df - self.mu) / self.std\n",
    "        # predict\n",
    "        df[\"proba\"] = self.model.predict(df_s[self.cols])\n",
    "        \n",
    "        #determine positions\n",
    "        df = df.loc[self.start_time:].copy() # starting with first live_stream bar (removing historical bars)\n",
    "        df[\"position\"] = np.where(df.proba < 0.47, -1, np.nan)\n",
    "        df[\"position\"] = np.where(df.proba > 0.53, 1, df.position)\n",
    "        df[\"position\"] = df.position.ffill().fillna(0) # start with neutral position if no strong signal\n",
    "        #***********************************************************************\n",
    "        \n",
    "        self.data = df.copy()\n",
    "    \n",
    "    def execute_trades(self):\n",
    "        if self.data[\"position\"].iloc[-1] == 1:\n",
    "            if self.position == 0:\n",
    "                order = self.create_order(self.instrument, self.units, suppress = True, ret = True)\n",
    "                self.report_trade(order, \"GOING LONG\")\n",
    "            elif self.position == -1:\n",
    "                order = self.create_order(self.instrument, self.units * 2, suppress = True, ret = True) \n",
    "                self.report_trade(order, \"GOING LONG\")\n",
    "            self.position = 1\n",
    "        elif self.data[\"position\"].iloc[-1] == -1: \n",
    "            if self.position == 0:\n",
    "                order = self.create_order(self.instrument, -self.units, suppress = True, ret = True)\n",
    "                self.report_trade(order, \"GOING SHORT\")\n",
    "            elif self.position == 1:\n",
    "                order = self.create_order(self.instrument, -self.units * 2, suppress = True, ret = True)\n",
    "                self.report_trade(order, \"GOING SHORT\")\n",
    "            self.position = -1\n",
    "        elif self.data[\"position\"].iloc[-1] == 0: \n",
    "            if self.position == -1:\n",
    "                order = self.create_order(self.instrument, self.units, suppress = True, ret = True) \n",
    "                self.report_trade(order, \"GOING NEUTRAL\")\n",
    "            elif self.position == 1:\n",
    "                order = self.create_order(self.instrument, -self.units, suppress = True, ret = True)\n",
    "                self.report_trade(order, \"GOING NEUTRAL\")\n",
    "            self.position = 0\n",
    "    \n",
    "    def report_trade(self, order, going):\n",
    "        time = order[\"time\"]\n",
    "        units = order[\"units\"]\n",
    "        price = order[\"price\"]\n",
    "        pl = float(order[\"pl\"])\n",
    "        self.profits.append(pl)\n",
    "        cumpl = sum(self.profits)\n",
    "        print(\"\\n\" + 100* \"-\")\n",
    "        print(\"{} | {}\".format(time, going))\n",
    "        print(\"{} | units = {} | price = {} | P&L = {} | Cum P&L = {}\".format(time, units, price, pl, cumpl))\n",
    "        print(100 * \"-\" + \"\\n\")  "
   ]
  },
  {
   "cell_type": "code",
   "execution_count": null,
   "metadata": {},
   "outputs": [],
   "source": [
    "trader = DNNTrader(\"oanda.cfg\", \"EUR_USD\", bar_length = \"20min\",\n",
    "                   window = 50, lags = 5, model = model, mu = mu, std = std, units = 100000)"
   ]
  },
  {
   "cell_type": "code",
   "execution_count": null,
   "metadata": {},
   "outputs": [],
   "source": [
    "trader.get_most_recent()\n",
    "trader.stream_data(trader.instrument, stop = 1000)\n",
    "if trader.position != 0:\n",
    "    close_order = trader.create_order(trader.instrument, units = -trader.position * trader.units,\n",
    "                                      suppress = True, ret = True) \n",
    "    trader.report_trade(close_order, \"GOING NEUTRAL\")\n",
    "    trader.position = 0"
   ]
  },
  {
   "cell_type": "code",
   "execution_count": null,
   "metadata": {
    "scrolled": true
   },
   "outputs": [],
   "source": [
    "trader.data"
   ]
  },
  {
   "cell_type": "code",
   "execution_count": null,
   "metadata": {},
   "outputs": [],
   "source": []
  },
  {
   "cell_type": "markdown",
   "metadata": {},
   "source": [
    "__[FXCM] Implementation__"
   ]
  },
  {
   "cell_type": "code",
   "execution_count": null,
   "metadata": {},
   "outputs": [],
   "source": [
    "api = fxcmpy.fxcmpy(config_file= \"fxcm.cfg\")"
   ]
  },
  {
   "cell_type": "code",
   "execution_count": null,
   "metadata": {},
   "outputs": [],
   "source": [
    "col = [\"tradeId\", \"amountK\", \"currency\", \"grossPL\", \"isBuy\"]"
   ]
  },
  {
   "cell_type": "code",
   "execution_count": null,
   "metadata": {},
   "outputs": [],
   "source": [
    "class DNNTrader():\n",
    "    \n",
    "    def __init__(self, instrument, bar_length, window, lags, model, mu, std, units):\n",
    "        self.instrument = instrument\n",
    "        self.bar_length = pd.to_timedelta(bar_length) \n",
    "        self.tick_data = None\n",
    "        self.raw_data = None\n",
    "        self.data = None \n",
    "        self.ticks = 0\n",
    "        self.last_bar = None  \n",
    "        self.units = units\n",
    "        self.position = 0\n",
    "        \n",
    "        #*****************add strategy-specific attributes here******************\n",
    "        self.window = window\n",
    "        self.lags = lags\n",
    "        self.model = model\n",
    "        self.mu = mu\n",
    "        self.std = std\n",
    "        #************************************************************************        \n",
    "    \n",
    "    def get_most_recent(self, period = \"m1\", number = 10000):\n",
    "        while True:  \n",
    "            time.sleep(5)\n",
    "            df = api.get_candles(self.instrument, number = number, period = period, columns = [\"bidclose\", \"askclose\"])\n",
    "            df[self.instrument] = (df.bidclose + df.askclose) / 2\n",
    "            df = df[self.instrument].to_frame()\n",
    "            df = df.resample(self.bar_length, label = \"right\").last().dropna().iloc[:-1]\n",
    "            self.raw_data = df.copy()\n",
    "            self.last_bar = self.raw_data.index[-1]\n",
    "            if pd.to_datetime(datetime.utcnow()) - self.last_bar < self.bar_length:\n",
    "                self.start_time = pd.to_datetime(datetime.utcnow()) # NEW -> Start Time of Trading Session\n",
    "                break\n",
    "    \n",
    "    def get_tick_data(self, data, dataframe):\n",
    "        \n",
    "        self.ticks += 1\n",
    "        print(self.ticks, end = \" \")\n",
    "        \n",
    "        recent_tick = pd.to_datetime(data[\"Updated\"], unit = \"ms\")\n",
    "        \n",
    "        if recent_tick - self.last_bar > self.bar_length:\n",
    "            self.tick_data = dataframe.loc[self.last_bar:, [\"Bid\", \"Ask\"]]\n",
    "            self.tick_data[self.instrument] = (self.tick_data.Ask + self.tick_data.Bid)/2\n",
    "            self.tick_data = self.tick_data[self.instrument].to_frame()\n",
    "            self.resample_and_join()\n",
    "            self.define_strategy() \n",
    "            self.execute_trades()\n",
    "            \n",
    "    def resample_and_join(self):\n",
    "        self.raw_data = self.raw_data.append(self.tick_data.resample(self.bar_length, \n",
    "                                                             label=\"right\").last().ffill().iloc[:-1])\n",
    "        self.last_bar = self.raw_data.index[-1]  \n",
    "        \n",
    "    def define_strategy(self): # \"strategy-specific\"\n",
    "        df = self.raw_data.copy()\n",
    "        \n",
    "        #******************** define your strategy here ************************\n",
    "        df = df.append(self.tick_data.iloc[-1]) # append latest tick (== open price of current bar)\n",
    "        df[\"returns\"] = np.log(df[self.instrument] / df[self.instrument].shift())\n",
    "        df[\"dir\"] = np.where(df[\"returns\"] > 0, 1, 0)\n",
    "        df[\"sma\"] = df[self.instrument].rolling(self.window).mean() - df[self.instrument].rolling(150).mean()\n",
    "        df[\"boll\"] = (df[self.instrument] - df[self.instrument].rolling(self.window).mean()) / df[self.instrument].rolling(self.window).std()\n",
    "        df[\"min\"] = df[self.instrument].rolling(self.window).min() / df[self.instrument] - 1\n",
    "        df[\"max\"] = df[self.instrument].rolling(self.window).max() / df[self.instrument] - 1\n",
    "        df[\"mom\"] = df[\"returns\"].rolling(3).mean()\n",
    "        df[\"vol\"] = df[\"returns\"].rolling(self.window).std()\n",
    "        df.dropna(inplace = True)\n",
    "        \n",
    "        # create lags\n",
    "        self.cols = []\n",
    "        features = [\"dir\", \"sma\", \"boll\", \"min\", \"max\", \"mom\", \"vol\"]\n",
    "\n",
    "        for f in features:\n",
    "            for lag in range(1, self.lags + 1):\n",
    "                col = \"{}_lag_{}\".format(f, lag)\n",
    "                df[col] = df[f].shift(lag)\n",
    "                self.cols.append(col)\n",
    "        df.dropna(inplace = True)\n",
    "        \n",
    "        # standardization\n",
    "        df_s = (df - self.mu) / self.std\n",
    "        # predict\n",
    "        df[\"proba\"] = self.model.predict(df_s[self.cols])\n",
    "        \n",
    "        #determine positions\n",
    "        df = df.loc[self.start_time:].copy() # starting with first live_stream bar (removing historical bars)\n",
    "        df[\"position\"] = np.where(df.proba < 0.47, -1, np.nan)\n",
    "        df[\"position\"] = np.where(df.proba > 0.53, 1, df.position)\n",
    "        df[\"position\"] = df.position.ffill().fillna(0) # start with neutral position if no strong signal\n",
    "        #***********************************************************************\n",
    "        \n",
    "        self.data = df.copy()\n",
    "    \n",
    "    def execute_trades(self):\n",
    "        if self.data[\"position\"].iloc[-1] == 1:\n",
    "            if self.position == 0:\n",
    "                order = api.create_market_buy_order(self.instrument, self.units)\n",
    "                self.report_trade(order, \"GOING LONG\")  \n",
    "            elif self.position == -1:\n",
    "                order = api.create_market_buy_order(self.instrument, self.units * 2)\n",
    "                self.report_trade(order, \"GOING LONG\")  \n",
    "            self.position = 1\n",
    "        elif self.data[\"position\"].iloc[-1] == -1: \n",
    "            if self.position == 0:\n",
    "                order = api.create_market_sell_order(self.instrument, self.units)\n",
    "                self.report_trade(order, \"GOING SHORT\")  \n",
    "            elif self.position == 1:\n",
    "                order = api.create_market_sell_order(self.instrument, self.units * 2)\n",
    "                self.report_trade(order, \"GOING SHORT\")  \n",
    "            self.position = -1\n",
    "        elif self.data[\"position\"].iloc[-1] == 0: \n",
    "            if self.position == -1:\n",
    "                order = api.create_market_buy_order(self.instrument, self.units)\n",
    "                self.report_trade(order, \"GOING NEUTRAL\") \n",
    "            elif self.position == 1:\n",
    "                order = api.create_market_sell_order(self.instrument, self.units)\n",
    "                self.report_trade(order, \"GOING NEUTRAL\")  \n",
    "            self.position = 0\n",
    "\n",
    "    def report_trade(self, order, going):\n",
    "        time = order.get_time()\n",
    "        units = api.get_open_positions().amountK.iloc[-1]\n",
    "        price = api.get_open_positions().open.iloc[-1]\n",
    "        unreal_pl = api.get_open_positions().grossPL.sum()\n",
    "        print(\"\\n\" + 100* \"-\")\n",
    "        print(\"{} | {}\".format(time, going))\n",
    "        print(\"{} | units = {} | price = {} | Unreal. P&L = {}\".format(time, units, price, unreal_pl))\n",
    "        print(100 * \"-\" + \"\\n\")"
   ]
  },
  {
   "cell_type": "code",
   "execution_count": null,
   "metadata": {},
   "outputs": [],
   "source": [
    "trader = DNNTrader(\"EUR/USD\", bar_length = \"20min\", \n",
    "                   window = 50, lags = 5, model = model, mu = mu, std = std, units = 100)"
   ]
  },
  {
   "cell_type": "code",
   "execution_count": null,
   "metadata": {
    "scrolled": true
   },
   "outputs": [],
   "source": [
    "trader.get_most_recent()\n",
    "api.subscribe_market_data(trader.instrument, (trader.get_tick_data, ))"
   ]
  },
  {
   "cell_type": "code",
   "execution_count": null,
   "metadata": {},
   "outputs": [],
   "source": [
    "api.unsubscribe_market_data(trader.instrument)\n",
    "if len(api.get_open_positions()) != 0: # if we have final open position(s) (netting and hedging)\n",
    "    api.close_all_for_symbol(trader.instrument)\n",
    "    print(2*\"\\n\" + \"{} | GOING NEUTRAL\".format(str(datetime.utcnow())) + \"\\n\")\n",
    "    time.sleep(20)\n",
    "    print(api.get_closed_positions_summary()[col])\n",
    "    trader.position = 0"
   ]
  },
  {
   "cell_type": "code",
   "execution_count": null,
   "metadata": {},
   "outputs": [],
   "source": [
    "trader.data"
   ]
  },
  {
   "cell_type": "code",
   "execution_count": null,
   "metadata": {},
   "outputs": [],
   "source": [
    "api.close()"
   ]
  },
  {
   "cell_type": "code",
   "execution_count": null,
   "metadata": {},
   "outputs": [],
   "source": []
  }
 ],
 "metadata": {
  "kernelspec": {
   "display_name": "Python 3",
   "language": "python",
   "name": "python3"
  },
  "language_info": {
   "codemirror_mode": {
    "name": "ipython",
    "version": 3
   },
   "file_extension": ".py",
   "mimetype": "text/x-python",
   "name": "python",
   "nbconvert_exporter": "python",
   "pygments_lexer": "ipython3",
   "version": "3.8.5"
  }
 },
 "nbformat": 4,
 "nbformat_minor": 4
}
