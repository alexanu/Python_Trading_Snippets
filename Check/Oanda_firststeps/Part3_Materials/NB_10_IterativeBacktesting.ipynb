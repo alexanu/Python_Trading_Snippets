{
 "cells": [
  {
   "cell_type": "markdown",
   "metadata": {},
   "source": [
    "# Advanced Backtesting: Iterative Backtesting (\"event-driven\") "
   ]
  },
  {
   "cell_type": "markdown",
   "metadata": {},
   "source": [
    "## A first Intuition on Iterative Backtesting (Part 1)"
   ]
  },
  {
   "cell_type": "code",
   "execution_count": null,
   "metadata": {},
   "outputs": [],
   "source": [
    "import pandas as pd\n",
    "import numpy as np\n",
    "import matplotlib.pyplot as plt\n",
    "plt.style.use(\"seaborn\")"
   ]
  },
  {
   "cell_type": "code",
   "execution_count": null,
   "metadata": {},
   "outputs": [],
   "source": [
    "data = pd.read_csv(\"detailed.csv\", parse_dates = [\"time\"], index_col = \"time\")\n",
    "data"
   ]
  },
  {
   "cell_type": "code",
   "execution_count": null,
   "metadata": {},
   "outputs": [],
   "source": [
    "data = data.round(5)"
   ]
  },
  {
   "cell_type": "code",
   "execution_count": null,
   "metadata": {},
   "outputs": [],
   "source": [
    "data.price.plot(figsize = (12, 8))\n",
    "plt.show()"
   ]
  },
  {
   "cell_type": "code",
   "execution_count": null,
   "metadata": {},
   "outputs": [],
   "source": [
    "data.spread.hist(bins = 100, figsize = (12, 8))\n",
    "plt.show()"
   ]
  },
  {
   "cell_type": "code",
   "execution_count": null,
   "metadata": {},
   "outputs": [],
   "source": [
    "for i in range(10):\n",
    "    print(i)"
   ]
  },
  {
   "cell_type": "code",
   "execution_count": null,
   "metadata": {},
   "outputs": [],
   "source": [
    "for bar in range(10): # interate over the first 10 bars/candles \n",
    "    print(bar, data.index[bar].date(), data.price[bar], data.spread[bar], sep = \" | \")"
   ]
  },
  {
   "cell_type": "code",
   "execution_count": null,
   "metadata": {},
   "outputs": [],
   "source": [
    "import time"
   ]
  },
  {
   "cell_type": "code",
   "execution_count": null,
   "metadata": {},
   "outputs": [],
   "source": [
    "for bar in range(10):\n",
    "    print(bar, data.index[bar].date(), data.price[bar], data.spread[bar], sep = \" | \")\n",
    "    time.sleep(1)"
   ]
  },
  {
   "cell_type": "code",
   "execution_count": null,
   "metadata": {},
   "outputs": [],
   "source": []
  },
  {
   "cell_type": "markdown",
   "metadata": {},
   "source": [
    "## A first Intuition on Iterative Backtesting (Part 2)"
   ]
  },
  {
   "cell_type": "code",
   "execution_count": null,
   "metadata": {},
   "outputs": [],
   "source": [
    "data"
   ]
  },
  {
   "cell_type": "code",
   "execution_count": null,
   "metadata": {},
   "outputs": [],
   "source": [
    "sma_s = 50\n",
    "sma_l = 200"
   ]
  },
  {
   "cell_type": "code",
   "execution_count": null,
   "metadata": {},
   "outputs": [],
   "source": [
    "data[\"SMA_S\"] = data.price.rolling(sma_s).mean()\n",
    "data[\"SMA_L\"] = data.price.rolling(sma_l).mean()"
   ]
  },
  {
   "cell_type": "code",
   "execution_count": null,
   "metadata": {},
   "outputs": [],
   "source": [
    "data.dropna(inplace = True)"
   ]
  },
  {
   "cell_type": "code",
   "execution_count": null,
   "metadata": {},
   "outputs": [],
   "source": [
    "data"
   ]
  },
  {
   "cell_type": "code",
   "execution_count": null,
   "metadata": {},
   "outputs": [],
   "source": [
    "position = 0 # we start with neutral position"
   ]
  },
  {
   "cell_type": "code",
   "execution_count": null,
   "metadata": {},
   "outputs": [],
   "source": [
    "len(data)"
   ]
  },
  {
   "cell_type": "code",
   "execution_count": null,
   "metadata": {},
   "outputs": [],
   "source": [
    "for bar in range(len(data)):\n",
    "    if data[\"SMA_S\"].iloc[bar] > data[\"SMA_L\"].iloc[bar]:\n",
    "        if position in [0, -1]:\n",
    "            print(\"{}: Go Long  | Price: {} | Spread: {}\".format(data.index[bar].date(), data.price[bar], data.spread[bar]))\n",
    "            position = 1\n",
    "    elif data[\"SMA_S\"].iloc[bar] < data[\"SMA_L\"].iloc[bar]:\n",
    "        if position in [0, 1]:\n",
    "            print(\"{}: Go Short | Price: {} | Spread: {}\".format(data.index[bar].date(), data.price[bar], data.spread[bar]))\n",
    "            position = -1"
   ]
  },
  {
   "cell_type": "code",
   "execution_count": null,
   "metadata": {},
   "outputs": [],
   "source": []
  },
  {
   "cell_type": "markdown",
   "metadata": {},
   "source": [
    "## Creating an Iterative Base Class (Part 1)"
   ]
  },
  {
   "cell_type": "code",
   "execution_count": null,
   "metadata": {},
   "outputs": [],
   "source": [
    "class IterativeBase():\n",
    "\n",
    "    def __init__(self, symbol, start, end, amount):\n",
    "        self.symbol = symbol\n",
    "        self.start = start\n",
    "        self.end = end\n",
    "        self.initial_balance = amount\n",
    "        self.current_balance = amount\n",
    "        self.get_data()\n",
    "\n",
    "    def get_data(self):\n",
    "        raw = pd.read_csv(\"detailed.csv\", parse_dates = [\"time\"], index_col = \"time\").dropna()\n",
    "        raw = raw.loc[self.start:self.end].copy()\n",
    "        raw[\"returns\"] = np.log(raw.price / raw.price.shift(1))\n",
    "        self.data = raw\n",
    "\n",
    "    def plot_data(self, cols = None):  \n",
    "        if cols is None:\n",
    "            cols = \"price\"\n",
    "        self.data[cols].plot(figsize = (12, 8), title = self.symbol)"
   ]
  },
  {
   "cell_type": "code",
   "execution_count": null,
   "metadata": {},
   "outputs": [],
   "source": [
    "bc = IterativeBase(\"EURUSD\", \"2006-12-31\", \"2020-06-30\", 100000)"
   ]
  },
  {
   "cell_type": "code",
   "execution_count": null,
   "metadata": {},
   "outputs": [],
   "source": [
    "bc.data"
   ]
  },
  {
   "cell_type": "code",
   "execution_count": null,
   "metadata": {},
   "outputs": [],
   "source": [
    "bc.plot_data()"
   ]
  },
  {
   "cell_type": "code",
   "execution_count": null,
   "metadata": {},
   "outputs": [],
   "source": [
    "bc.plot_data(cols = \"spread\")"
   ]
  },
  {
   "cell_type": "code",
   "execution_count": null,
   "metadata": {},
   "outputs": [],
   "source": []
  },
  {
   "cell_type": "markdown",
   "metadata": {},
   "source": [
    "## Creating an Iterative Base Class (Part 2)"
   ]
  },
  {
   "cell_type": "code",
   "execution_count": null,
   "metadata": {},
   "outputs": [],
   "source": [
    "class IterativeBase():\n",
    "\n",
    "    def __init__(self, symbol, start, end, amount):\n",
    "        self.symbol = symbol\n",
    "        self.start = start\n",
    "        self.end = end\n",
    "        self.initial_balance = amount\n",
    "        self.current_balance = amount\n",
    "        self.get_data()\n",
    "\n",
    "    def get_data(self):\n",
    "        raw = pd.read_csv(\"detailed.csv\", parse_dates = [\"time\"], index_col = \"time\").dropna()\n",
    "        raw = raw.loc[self.start:self.end]\n",
    "        raw[\"returns\"] = np.log(raw.price / raw.price.shift(1))\n",
    "        self.data = raw\n",
    "\n",
    "    def plot_data(self, cols = None):  \n",
    "        if cols is None:\n",
    "            cols = \"price\"\n",
    "        self.data[cols].plot(figsize = (12, 8), title = self.symbol)\n",
    "    \n",
    "    def get_values(self, bar):\n",
    "        date = str(self.data.index[bar].date())\n",
    "        price = round(self.data.price.iloc[bar], 5)\n",
    "        spread = round(self.data.spread.iloc[bar], 5)\n",
    "        return date, price, spread"
   ]
  },
  {
   "cell_type": "code",
   "execution_count": null,
   "metadata": {},
   "outputs": [],
   "source": [
    "bc = IterativeBase(\"EURUSD\", \"2006-12-31\", \"2020-06-30\", 100000)"
   ]
  },
  {
   "cell_type": "code",
   "execution_count": null,
   "metadata": {},
   "outputs": [],
   "source": [
    "bc.data"
   ]
  },
  {
   "cell_type": "code",
   "execution_count": null,
   "metadata": {},
   "outputs": [],
   "source": [
    "bc.get_values(0)"
   ]
  },
  {
   "cell_type": "code",
   "execution_count": null,
   "metadata": {},
   "outputs": [],
   "source": [
    "bc.get_values(100)"
   ]
  },
  {
   "cell_type": "code",
   "execution_count": null,
   "metadata": {},
   "outputs": [],
   "source": [
    "bc.get_values(-1)"
   ]
  },
  {
   "cell_type": "code",
   "execution_count": null,
   "metadata": {},
   "outputs": [],
   "source": []
  },
  {
   "cell_type": "markdown",
   "metadata": {},
   "source": [
    "## Creating an Iterative Base Class (Part 3)"
   ]
  },
  {
   "cell_type": "code",
   "execution_count": null,
   "metadata": {},
   "outputs": [],
   "source": [
    "class IterativeBase():\n",
    "\n",
    "    def __init__(self, symbol, start, end, amount):\n",
    "        self.symbol = symbol\n",
    "        self.start = start\n",
    "        self.end = end\n",
    "        self.initial_balance = amount\n",
    "        self.current_balance = amount\n",
    "        self.get_data()\n",
    "\n",
    "    def get_data(self):\n",
    "        raw = pd.read_csv(\"detailed.csv\", parse_dates = [\"time\"], index_col = \"time\").dropna()\n",
    "        raw = raw.loc[self.start:self.end]\n",
    "        raw[\"returns\"] = np.log(raw.price / raw.price.shift(1))\n",
    "        self.data = raw\n",
    "\n",
    "    def plot_data(self, cols = None):  \n",
    "        if cols is None:\n",
    "            cols = \"price\"\n",
    "        self.data[cols].plot(figsize = (12, 8), title = self.symbol)\n",
    "    \n",
    "    def get_values(self, bar):\n",
    "        date = str(self.data.index[bar].date())\n",
    "        price = round(self.data.price.iloc[bar], 5)\n",
    "        spread = round(self.data.spread.iloc[bar], 5)\n",
    "        return date, price, spread\n",
    "    \n",
    "    def print_current_balance(self, bar):\n",
    "        date, price, spread = self.get_values(bar)\n",
    "        print(\"{} | Current Balance: {}\".format(date, round(self.current_balance, 2)))"
   ]
  },
  {
   "cell_type": "code",
   "execution_count": null,
   "metadata": {},
   "outputs": [],
   "source": [
    "bc = IterativeBase(\"EURUSD\", \"2006-12-31\", \"2020-06-30\", 100000)"
   ]
  },
  {
   "cell_type": "code",
   "execution_count": null,
   "metadata": {},
   "outputs": [],
   "source": [
    "bc.data"
   ]
  },
  {
   "cell_type": "code",
   "execution_count": null,
   "metadata": {},
   "outputs": [],
   "source": [
    "bc.print_current_balance(0)"
   ]
  },
  {
   "cell_type": "code",
   "execution_count": null,
   "metadata": {},
   "outputs": [],
   "source": [
    "bc.print_current_balance(100)"
   ]
  },
  {
   "cell_type": "code",
   "execution_count": null,
   "metadata": {},
   "outputs": [],
   "source": [
    "bc.print_current_balance(-1)"
   ]
  },
  {
   "cell_type": "code",
   "execution_count": null,
   "metadata": {},
   "outputs": [],
   "source": []
  },
  {
   "cell_type": "markdown",
   "metadata": {},
   "source": [
    "## Creating an Iterative Base Class (Part 4)"
   ]
  },
  {
   "cell_type": "code",
   "execution_count": null,
   "metadata": {},
   "outputs": [],
   "source": [
    "class IterativeBase():\n",
    "\n",
    "    def __init__(self, symbol, start, end, amount):\n",
    "        self.symbol = symbol\n",
    "        self.start = start\n",
    "        self.end = end\n",
    "        self.initial_balance = amount\n",
    "        self.current_balance = amount\n",
    "        self.units = 0\n",
    "        self.trades = 0 \n",
    "        self.get_data()\n",
    "\n",
    "    def get_data(self):\n",
    "        raw = pd.read_csv(\"detailed.csv\", parse_dates = [\"time\"], index_col = \"time\").dropna()\n",
    "        raw = raw.loc[self.start:self.end]\n",
    "        raw[\"returns\"] = np.log(raw.price / raw.price.shift(1))\n",
    "        self.data = raw\n",
    "\n",
    "    def plot_data(self, cols = None):  \n",
    "        if cols is None:\n",
    "            cols = \"price\"\n",
    "        self.data[cols].plot(figsize = (12, 8), title = self.symbol)\n",
    "    \n",
    "    def get_values(self, bar):\n",
    "        date = str(self.data.index[bar].date())\n",
    "        price = round(self.data.price.iloc[bar], 5)\n",
    "        spread = round(self.data.spread.iloc[bar], 5)\n",
    "        return date, price, spread\n",
    "    \n",
    "    def print_current_balance(self, bar):\n",
    "        date, price, spread = self.get_values(bar)\n",
    "        print(\"{} | Current Balance: {}\".format(date, round(self.current_balance, 2)))\n",
    "        \n",
    "    def buy_instrument(self, bar, units = None, amount = None):\n",
    "        date, price, spread = self.get_values(bar)\n",
    "        if amount is not None: # use units if units are passed, otherwise calculate units\n",
    "            units = int(amount / price)\n",
    "        self.current_balance -= units * price # reduce cash balance by \"purchase price\"\n",
    "        self.units += units\n",
    "        self.trades += 1\n",
    "        print(\"{} |  Buying {} for {}\".format(date, units, round(price, 5)))"
   ]
  },
  {
   "cell_type": "code",
   "execution_count": null,
   "metadata": {},
   "outputs": [],
   "source": [
    "bc = IterativeBase(\"EURUSD\", \"2006-12-31\", \"2020-06-30\", 100000)"
   ]
  },
  {
   "cell_type": "code",
   "execution_count": null,
   "metadata": {},
   "outputs": [],
   "source": [
    "bc.print_current_balance(0)"
   ]
  },
  {
   "cell_type": "code",
   "execution_count": null,
   "metadata": {},
   "outputs": [],
   "source": [
    "bc.data"
   ]
  },
  {
   "cell_type": "code",
   "execution_count": null,
   "metadata": {},
   "outputs": [],
   "source": [
    "bc.buy_instrument(0, units = 1000)"
   ]
  },
  {
   "cell_type": "code",
   "execution_count": null,
   "metadata": {},
   "outputs": [],
   "source": [
    "bc.units"
   ]
  },
  {
   "cell_type": "code",
   "execution_count": null,
   "metadata": {},
   "outputs": [],
   "source": [
    "bc.print_current_balance(0)"
   ]
  },
  {
   "cell_type": "code",
   "execution_count": null,
   "metadata": {},
   "outputs": [],
   "source": [
    "100000 - 1000 * 1.31985"
   ]
  },
  {
   "cell_type": "code",
   "execution_count": null,
   "metadata": {},
   "outputs": [],
   "source": [
    "bc.buy_instrument(1, amount = 5000)"
   ]
  },
  {
   "cell_type": "code",
   "execution_count": null,
   "metadata": {},
   "outputs": [],
   "source": [
    "int(5000 / 1.32734)"
   ]
  },
  {
   "cell_type": "code",
   "execution_count": null,
   "metadata": {},
   "outputs": [],
   "source": [
    "bc.print_current_balance(1)"
   ]
  },
  {
   "cell_type": "code",
   "execution_count": null,
   "metadata": {},
   "outputs": [],
   "source": []
  },
  {
   "cell_type": "markdown",
   "metadata": {},
   "source": [
    "## Creating an Iterative Base Class (Part 5)"
   ]
  },
  {
   "cell_type": "code",
   "execution_count": null,
   "metadata": {},
   "outputs": [],
   "source": [
    "class IterativeBase():\n",
    "\n",
    "    def __init__(self, symbol, start, end, amount):\n",
    "        self.symbol = symbol\n",
    "        self.start = start\n",
    "        self.end = end\n",
    "        self.initial_balance = amount\n",
    "        self.current_balance = amount\n",
    "        self.units = 0\n",
    "        self.trades = 0 \n",
    "        self.get_data()\n",
    "\n",
    "    def get_data(self):\n",
    "        raw = pd.read_csv(\"detailed.csv\", parse_dates = [\"time\"], index_col = \"time\").dropna()\n",
    "        raw = raw.loc[self.start:self.end]\n",
    "        raw[\"returns\"] = np.log(raw.price / raw.price.shift(1))\n",
    "        self.data = raw\n",
    "\n",
    "    def plot_data(self, cols = None):  \n",
    "        if cols is None:\n",
    "            cols = \"price\"\n",
    "        self.data[cols].plot(figsize = (12, 8), title = self.symbol)\n",
    "    \n",
    "    def get_values(self, bar):\n",
    "        date = str(self.data.index[bar].date())\n",
    "        price = round(self.data.price.iloc[bar], 5)\n",
    "        spread = round(self.data.spread.iloc[bar], 5)\n",
    "        return date, price, spread\n",
    "    \n",
    "    def print_current_balance(self, bar):\n",
    "        date, price, spread = self.get_values(bar)\n",
    "        print(\"{} | Current Balance: {}\".format(date, round(self.current_balance, 2)))\n",
    "        \n",
    "    def buy_instrument(self, bar, units = None, amount = None):\n",
    "        date, price, spread = self.get_values(bar)\n",
    "        if amount is not None: # use units if units are passed, otherwise calculate units\n",
    "            units = int(amount / price)\n",
    "        self.current_balance -= units * price # reduce cash balance by \"purchase price\"\n",
    "        self.units += units\n",
    "        self.trades += 1\n",
    "        print(\"{} |  Buying {} for {}\".format(date, units, round(price, 5)))\n",
    "    \n",
    "    def print_current_position_value(self, bar):\n",
    "        date, price, spread = self.get_values(bar)\n",
    "        cpv = self.units * price\n",
    "        print(\"{} |  Current Position Value = {}\".format(date, round(cpv, 2)))\n",
    "    \n",
    "    def print_current_nav(self, bar):\n",
    "        date, price, spread = self.get_values(bar)\n",
    "        nav = self.current_balance + self.units * price\n",
    "        print(\"{} |  Net Asset Value = {}\".format(date, round(nav, 2)))"
   ]
  },
  {
   "cell_type": "code",
   "execution_count": null,
   "metadata": {},
   "outputs": [],
   "source": [
    "bc = IterativeBase(\"EURUSD\", \"2006-12-31\", \"2020-06-30\", 100000)"
   ]
  },
  {
   "cell_type": "code",
   "execution_count": null,
   "metadata": {},
   "outputs": [],
   "source": [
    "bc.print_current_balance(0)"
   ]
  },
  {
   "cell_type": "code",
   "execution_count": null,
   "metadata": {},
   "outputs": [],
   "source": [
    "bc.buy_instrument(0, units = 1000)"
   ]
  },
  {
   "cell_type": "code",
   "execution_count": null,
   "metadata": {},
   "outputs": [],
   "source": [
    "bc.units"
   ]
  },
  {
   "cell_type": "code",
   "execution_count": null,
   "metadata": {},
   "outputs": [],
   "source": [
    "bc.print_current_balance(0)"
   ]
  },
  {
   "cell_type": "code",
   "execution_count": null,
   "metadata": {},
   "outputs": [],
   "source": [
    "bc.print_current_position_value(0)"
   ]
  },
  {
   "cell_type": "code",
   "execution_count": null,
   "metadata": {},
   "outputs": [],
   "source": [
    "bc.print_current_nav(0)"
   ]
  },
  {
   "cell_type": "code",
   "execution_count": null,
   "metadata": {},
   "outputs": [],
   "source": [
    "bc.print_current_position_value(1)"
   ]
  },
  {
   "cell_type": "code",
   "execution_count": null,
   "metadata": {},
   "outputs": [],
   "source": [
    "bc.print_current_nav(1)"
   ]
  },
  {
   "cell_type": "code",
   "execution_count": null,
   "metadata": {},
   "outputs": [],
   "source": [
    "bc.buy_instrument(1, amount = 5000)"
   ]
  },
  {
   "cell_type": "code",
   "execution_count": null,
   "metadata": {},
   "outputs": [],
   "source": [
    "bc.print_current_balance(1)"
   ]
  },
  {
   "cell_type": "code",
   "execution_count": null,
   "metadata": {},
   "outputs": [],
   "source": [
    "bc.print_current_position_value(1)"
   ]
  },
  {
   "cell_type": "code",
   "execution_count": null,
   "metadata": {},
   "outputs": [],
   "source": [
    "bc.print_current_nav(1)"
   ]
  },
  {
   "cell_type": "code",
   "execution_count": null,
   "metadata": {},
   "outputs": [],
   "source": [
    "bc.print_current_balance(2)"
   ]
  },
  {
   "cell_type": "code",
   "execution_count": null,
   "metadata": {},
   "outputs": [],
   "source": [
    "bc.print_current_position_value(2)"
   ]
  },
  {
   "cell_type": "code",
   "execution_count": null,
   "metadata": {},
   "outputs": [],
   "source": [
    "bc.print_current_nav(2)"
   ]
  },
  {
   "cell_type": "code",
   "execution_count": null,
   "metadata": {},
   "outputs": [],
   "source": [
    "bc.print_current_nav(-1)"
   ]
  },
  {
   "cell_type": "code",
   "execution_count": null,
   "metadata": {},
   "outputs": [],
   "source": [
    "bc.print_current_position_value(-1)"
   ]
  },
  {
   "cell_type": "code",
   "execution_count": null,
   "metadata": {},
   "outputs": [],
   "source": []
  },
  {
   "cell_type": "markdown",
   "metadata": {},
   "source": [
    "## Creating an Iterative Base Class (Part 6)"
   ]
  },
  {
   "cell_type": "code",
   "execution_count": null,
   "metadata": {},
   "outputs": [],
   "source": [
    "class IterativeBase():\n",
    "\n",
    "    def __init__(self, symbol, start, end, amount):\n",
    "        self.symbol = symbol\n",
    "        self.start = start\n",
    "        self.end = end\n",
    "        self.initial_balance = amount\n",
    "        self.current_balance = amount\n",
    "        self.units = 0\n",
    "        self.trades = 0 \n",
    "        self.get_data()\n",
    "\n",
    "    def get_data(self):\n",
    "        raw = pd.read_csv(\"detailed.csv\", parse_dates = [\"time\"], index_col = \"time\").dropna()\n",
    "        raw = raw.loc[self.start:self.end]\n",
    "        raw[\"returns\"] = np.log(raw.price / raw.price.shift(1))\n",
    "        self.data = raw\n",
    "\n",
    "    def plot_data(self, cols = None):  \n",
    "        if cols is None:\n",
    "            cols = \"price\"\n",
    "        self.data[cols].plot(figsize = (12, 8), title = self.symbol)\n",
    "    \n",
    "    def get_values(self, bar):\n",
    "        date = str(self.data.index[bar].date())\n",
    "        price = round(self.data.price.iloc[bar], 5)\n",
    "        spread = round(self.data.spread.iloc[bar], 5)\n",
    "        return date, price, spread\n",
    "    \n",
    "    def print_current_balance(self, bar):\n",
    "        date, price, spread = self.get_values(bar)\n",
    "        print(\"{} | Current Balance: {}\".format(date, round(self.current_balance, 2)))\n",
    "        \n",
    "    def buy_instrument(self, bar, units = None, amount = None):\n",
    "        date, price, spread = self.get_values(bar)\n",
    "        if amount is not None: # use units if units are passed, otherwise calculate units\n",
    "            units = int(amount / price)\n",
    "        self.current_balance -= units * price # reduce cash balance by \"purchase price\"\n",
    "        self.units += units\n",
    "        self.trades += 1\n",
    "        print(\"{} |  Buying {} for {}\".format(date, units, round(price, 5)))\n",
    "    \n",
    "    def sell_instrument(self, bar, units = None, amount = None):\n",
    "        date, price, spread = self.get_values(bar)\n",
    "        if amount is not None: # use units if units are passed, otherwise calculate units\n",
    "            units = int(amount / price)\n",
    "        self.current_balance += units * price # increases cash balance by \"purchase price\"\n",
    "        self.units -= units\n",
    "        self.trades += 1\n",
    "        print(\"{} |  Selling {} for {}\".format(date, units, round(price, 5)))\n",
    "    \n",
    "    def print_current_position_value(self, bar):\n",
    "        date, price, spread = self.get_values(bar)\n",
    "        cpv = self.units * price\n",
    "        print(\"{} |  Current Position Value = {}\".format(date, round(cpv, 2)))\n",
    "    \n",
    "    def print_current_nav(self, bar):\n",
    "        date, price, spread = self.get_values(bar)\n",
    "        nav = self.current_balance + self.units * price\n",
    "        print(\"{} |  Net Asset Value = {}\".format(date, round(nav, 2)))"
   ]
  },
  {
   "cell_type": "code",
   "execution_count": null,
   "metadata": {},
   "outputs": [],
   "source": [
    "bc = IterativeBase(\"EURUSD\", \"2006-12-31\", \"2020-06-30\", 100000)"
   ]
  },
  {
   "cell_type": "code",
   "execution_count": null,
   "metadata": {},
   "outputs": [],
   "source": [
    "bc.buy_instrument(0, units = 10000) # go long 10,000 units"
   ]
  },
  {
   "cell_type": "code",
   "execution_count": null,
   "metadata": {},
   "outputs": [],
   "source": [
    "bc.units"
   ]
  },
  {
   "cell_type": "code",
   "execution_count": null,
   "metadata": {},
   "outputs": [],
   "source": [
    "bc.print_current_position_value(1)"
   ]
  },
  {
   "cell_type": "code",
   "execution_count": null,
   "metadata": {},
   "outputs": [],
   "source": [
    "bc.print_current_nav(1)"
   ]
  },
  {
   "cell_type": "code",
   "execution_count": null,
   "metadata": {},
   "outputs": [],
   "source": [
    "bc.sell_instrument(1, units = 20000) # close long position and go short 10,000 units"
   ]
  },
  {
   "cell_type": "code",
   "execution_count": null,
   "metadata": {},
   "outputs": [],
   "source": [
    "bc.units"
   ]
  },
  {
   "cell_type": "code",
   "execution_count": null,
   "metadata": {},
   "outputs": [],
   "source": [
    "bc.print_current_balance(1) # cash balance increased, but... "
   ]
  },
  {
   "cell_type": "code",
   "execution_count": null,
   "metadata": {},
   "outputs": [],
   "source": [
    "bc.print_current_position_value(1) # ... the current position value is negative"
   ]
  },
  {
   "cell_type": "code",
   "execution_count": null,
   "metadata": {},
   "outputs": [],
   "source": [
    "bc.print_current_nav(1)"
   ]
  },
  {
   "cell_type": "code",
   "execution_count": null,
   "metadata": {},
   "outputs": [],
   "source": []
  },
  {
   "cell_type": "markdown",
   "metadata": {},
   "source": [
    "## Creating an Iterative Base Class (Part 7)"
   ]
  },
  {
   "cell_type": "code",
   "execution_count": null,
   "metadata": {},
   "outputs": [],
   "source": [
    "class IterativeBase():\n",
    "\n",
    "    def __init__(self, symbol, start, end, amount):\n",
    "        self.symbol = symbol\n",
    "        self.start = start\n",
    "        self.end = end\n",
    "        self.initial_balance = amount\n",
    "        self.current_balance = amount\n",
    "        self.units = 0\n",
    "        self.trades = 0 \n",
    "        self.get_data()\n",
    "\n",
    "    def get_data(self):\n",
    "        raw = pd.read_csv(\"detailed.csv\", parse_dates = [\"time\"], index_col = \"time\").dropna()\n",
    "        raw = raw.loc[self.start:self.end]\n",
    "        raw[\"returns\"] = np.log(raw.price / raw.price.shift(1))\n",
    "        self.data = raw\n",
    "\n",
    "    def plot_data(self, cols = None):  \n",
    "        if cols is None:\n",
    "            cols = \"price\"\n",
    "        self.data[cols].plot(figsize = (12, 8), title = self.symbol)\n",
    "    \n",
    "    def get_values(self, bar):\n",
    "        date = str(self.data.index[bar].date())\n",
    "        price = round(self.data.price.iloc[bar], 5)\n",
    "        spread = round(self.data.spread.iloc[bar], 5)\n",
    "        return date, price, spread\n",
    "    \n",
    "    def print_current_balance(self, bar):\n",
    "        date, price, spread = self.get_values(bar)\n",
    "        print(\"{} | Current Balance: {}\".format(date, round(self.current_balance, 2)))\n",
    "        \n",
    "    def buy_instrument(self, bar, units = None, amount = None):\n",
    "        date, price, spread = self.get_values(bar)\n",
    "        if amount is not None: # use units if units are passed, otherwise calculate units\n",
    "            units = int(amount / price)\n",
    "        self.current_balance -= units * price # reduce cash balance by \"purchase price\"\n",
    "        self.units += units\n",
    "        self.trades += 1\n",
    "        print(\"{} |  Buying {} for {}\".format(date, units, round(price, 5)))\n",
    "    \n",
    "    def sell_instrument(self, bar, units = None, amount = None):\n",
    "        date, price, spread = self.get_values(bar)\n",
    "        if amount is not None: # use units if units are passed, otherwise calculate units\n",
    "            units = int(amount / price)\n",
    "        self.current_balance += units * price # increases cash balance by \"purchase price\"\n",
    "        self.units -= units\n",
    "        self.trades += 1\n",
    "        print(\"{} |  Selling {} for {}\".format(date, units, round(price, 5)))\n",
    "    \n",
    "    def print_current_position_value(self, bar):\n",
    "        date, price, spread = self.get_values(bar)\n",
    "        cpv = self.units * price\n",
    "        print(\"{} |  Current Position Value = {}\".format(date, round(cpv, 2)))\n",
    "    \n",
    "    def print_current_nav(self, bar):\n",
    "        date, price, spread = self.get_values(bar)\n",
    "        nav = self.current_balance + self.units * price\n",
    "        print(\"{} |  Net Asset Value = {}\".format(date, round(nav, 2)))\n",
    "        \n",
    "    def close_pos(self, bar):\n",
    "        date, price, spread = self.get_values(bar)\n",
    "        print(75 * \"-\")\n",
    "        print(\"{} | +++ CLOSING FINAL POSITION +++\".format(date))\n",
    "        self.current_balance += self.units * price # closing final position (works with short and long!)\n",
    "        print(\"{} | closing position of {} for {}\".format(date, self.units, price))\n",
    "        self.units = 0 # setting position to neutral\n",
    "        self.trades += 1\n",
    "        perf = (self.current_balance - self.initial_balance) / self.initial_balance * 100\n",
    "        self.print_current_balance(bar)\n",
    "        print(\"{} | net performance (%) = {}\".format(date, round(perf, 2) ))\n",
    "        print(\"{} | number of trades executed = {}\".format(date, self.trades))\n",
    "        print(75 * \"-\")"
   ]
  },
  {
   "cell_type": "code",
   "execution_count": null,
   "metadata": {},
   "outputs": [],
   "source": [
    "bc = IterativeBase(\"EURUSD\", \"2006-12-31\", \"2020-06-30\", 100000)"
   ]
  },
  {
   "cell_type": "code",
   "execution_count": null,
   "metadata": {},
   "outputs": [],
   "source": [
    "bc.buy_instrument(0, amount = 100000)"
   ]
  },
  {
   "cell_type": "code",
   "execution_count": null,
   "metadata": {},
   "outputs": [],
   "source": [
    "bc.print_current_balance(0)"
   ]
  },
  {
   "cell_type": "code",
   "execution_count": null,
   "metadata": {},
   "outputs": [],
   "source": [
    "bc.print_current_position_value(0)"
   ]
  },
  {
   "cell_type": "code",
   "execution_count": null,
   "metadata": {},
   "outputs": [],
   "source": [
    "bc.print_current_balance(-1)"
   ]
  },
  {
   "cell_type": "code",
   "execution_count": null,
   "metadata": {},
   "outputs": [],
   "source": [
    "bc.print_current_position_value(-1)"
   ]
  },
  {
   "cell_type": "code",
   "execution_count": null,
   "metadata": {},
   "outputs": [],
   "source": [
    "bc.print_current_nav(-1)"
   ]
  },
  {
   "cell_type": "code",
   "execution_count": null,
   "metadata": {},
   "outputs": [],
   "source": [
    "bc.close_pos(-1)"
   ]
  },
  {
   "cell_type": "code",
   "execution_count": null,
   "metadata": {},
   "outputs": [],
   "source": [
    "bc.data"
   ]
  },
  {
   "cell_type": "code",
   "execution_count": null,
   "metadata": {},
   "outputs": [],
   "source": [
    "bc.data.price[-1] / bc.data.price[0] - 1"
   ]
  },
  {
   "cell_type": "code",
   "execution_count": null,
   "metadata": {},
   "outputs": [],
   "source": []
  },
  {
   "cell_type": "markdown",
   "metadata": {},
   "source": [
    "## Creating an Iterative Base Class (Part 8)"
   ]
  },
  {
   "cell_type": "code",
   "execution_count": null,
   "metadata": {},
   "outputs": [],
   "source": [
    "class IterativeBase():\n",
    "\n",
    "    def __init__(self, symbol, start, end, amount, use_spread = True):\n",
    "        self.symbol = symbol\n",
    "        self.start = start\n",
    "        self.end = end\n",
    "        self.initial_balance = amount\n",
    "        self.current_balance = amount\n",
    "        self.units = 0\n",
    "        self.trades = 0\n",
    "        self.use_spread = use_spread\n",
    "        self.get_data()\n",
    "\n",
    "    def get_data(self):\n",
    "        raw = pd.read_csv(\"detailed.csv\", parse_dates = [\"time\"], index_col = \"time\").dropna()\n",
    "        raw = raw.loc[self.start:self.end]\n",
    "        raw[\"returns\"] = np.log(raw.price / raw.price.shift(1))\n",
    "        self.data = raw\n",
    "\n",
    "    def plot_data(self, cols = None):  \n",
    "        if cols is None:\n",
    "            cols = \"price\"\n",
    "        self.data[cols].plot(figsize = (12, 8), title = self.symbol)\n",
    "    \n",
    "    def get_values(self, bar):\n",
    "        date = str(self.data.index[bar].date())\n",
    "        price = round(self.data.price.iloc[bar], 5)\n",
    "        spread = round(self.data.spread.iloc[bar], 5)\n",
    "        return date, price, spread\n",
    "    \n",
    "    def print_current_balance(self, bar):\n",
    "        date, price, spread = self.get_values(bar)\n",
    "        print(\"{} | Current Balance: {}\".format(date, round(self.current_balance, 2)))\n",
    "        \n",
    "    def buy_instrument(self, bar, units = None, amount = None):\n",
    "        date, price, spread = self.get_values(bar)\n",
    "        if self.use_spread:\n",
    "            price += spread/2 # ask price\n",
    "        if amount is not None: # use units if units are passed, otherwise calculate units\n",
    "            units = int(amount / price)\n",
    "        self.current_balance -= units * price # reduce cash balance by \"purchase price\"\n",
    "        self.units += units\n",
    "        self.trades += 1\n",
    "        print(\"{} |  Buying {} for {}\".format(date, units, round(price, 5)))\n",
    "    \n",
    "    def sell_instrument(self, bar, units = None, amount = None):\n",
    "        date, price, spread = self.get_values(bar)\n",
    "        if self.use_spread:\n",
    "            price -= spread/2 # bid price\n",
    "        if amount is not None: # use units if units are passed, otherwise calculate units\n",
    "            units = int(amount / price)\n",
    "        self.current_balance += units * price # increases cash balance by \"purchase price\"\n",
    "        self.units -= units\n",
    "        self.trades += 1\n",
    "        print(\"{} |  Selling {} for {}\".format(date, units, round(price, 5)))\n",
    "    \n",
    "    def print_current_position_value(self, bar):\n",
    "        date, price, spread = self.get_values(bar)\n",
    "        cpv = self.units * price\n",
    "        print(\"{} |  Current Position Value = {}\".format(date, round(cpv, 2)))\n",
    "    \n",
    "    def print_current_nav(self, bar):\n",
    "        date, price, spread = self.get_values(bar)\n",
    "        nav = self.current_balance + self.units * price\n",
    "        print(\"{} |  Net Asset Value = {}\".format(date, round(nav, 2)))\n",
    "        \n",
    "    def close_pos(self, bar):\n",
    "        date, price, spread = self.get_values(bar)\n",
    "        print(75 * \"-\")\n",
    "        print(\"{} | +++ CLOSING FINAL POSITION +++\".format(date))\n",
    "        self.current_balance += self.units * price # closing final position (works with short and long!)\n",
    "        self.current_balance -= (abs(self.units) * spread/2 * self.use_spread) # substract half-spread costs\n",
    "        print(\"{} | closing position of {} for {}\".format(date, self.units, price))\n",
    "        self.units = 0 # setting position to neutral\n",
    "        self.trades += 1\n",
    "        perf = (self.current_balance - self.initial_balance) / self.initial_balance * 100\n",
    "        self.print_current_balance(bar)\n",
    "        print(\"{} | net performance (%) = {}\".format(date, round(perf, 2) ))\n",
    "        print(\"{} | number of trades executed = {}\".format(date, self.trades))\n",
    "        print(75 * \"-\")"
   ]
  },
  {
   "cell_type": "code",
   "execution_count": null,
   "metadata": {},
   "outputs": [],
   "source": [
    "bc = IterativeBase(\"EURUSD\", \"2006-12-31\", \"2020-06-30\", 100000, use_spread = True)"
   ]
  },
  {
   "cell_type": "code",
   "execution_count": null,
   "metadata": {},
   "outputs": [],
   "source": [
    "bc.buy_instrument(0, amount = 100000)"
   ]
  },
  {
   "cell_type": "code",
   "execution_count": null,
   "metadata": {},
   "outputs": [],
   "source": [
    "bc.print_current_nav(0)"
   ]
  },
  {
   "cell_type": "code",
   "execution_count": null,
   "metadata": {},
   "outputs": [],
   "source": [
    "bc.data"
   ]
  },
  {
   "cell_type": "code",
   "execution_count": null,
   "metadata": {},
   "outputs": [],
   "source": [
    "bc.data.spread[0] / 2 * 75737"
   ]
  },
  {
   "cell_type": "code",
   "execution_count": null,
   "metadata": {},
   "outputs": [],
   "source": [
    "bc.close_pos(-1)"
   ]
  },
  {
   "cell_type": "code",
   "execution_count": null,
   "metadata": {},
   "outputs": [],
   "source": []
  },
  {
   "cell_type": "markdown",
   "metadata": {},
   "source": [
    "## Iterative Backtesting of SMA Strategies"
   ]
  },
  {
   "cell_type": "code",
   "execution_count": null,
   "metadata": {},
   "outputs": [],
   "source": [
    "import pandas as pd\n",
    "import numpy as np\n",
    "import matplotlib.pyplot as plt\n",
    "plt.style.use(\"seaborn\")"
   ]
  },
  {
   "cell_type": "code",
   "execution_count": null,
   "metadata": {},
   "outputs": [],
   "source": [
    "class IterativeBase():\n",
    "\n",
    "    def __init__(self, symbol, start, end, amount, use_spread = True):\n",
    "        self.symbol = symbol\n",
    "        self.start = start\n",
    "        self.end = end\n",
    "        self.initial_balance = amount\n",
    "        self.current_balance = amount\n",
    "        self.units = 0\n",
    "        self.trades = 0\n",
    "        self.position = 0\n",
    "        self.use_spread = use_spread\n",
    "        self.get_data()\n",
    "\n",
    "    def get_data(self):\n",
    "        raw = pd.read_csv(\"detailed.csv\", parse_dates = [\"time\"], index_col = \"time\").dropna()\n",
    "        raw = raw.loc[self.start:self.end]\n",
    "        raw[\"returns\"] = np.log(raw.price / raw.price.shift(1))\n",
    "        self.data = raw\n",
    "\n",
    "    def plot_data(self, cols = None):  \n",
    "        if cols is None:\n",
    "            cols = \"price\"\n",
    "        self.data[cols].plot(figsize = (12, 8), title = self.symbol)\n",
    "    \n",
    "    def get_values(self, bar):\n",
    "        date = str(self.data.index[bar].date())\n",
    "        price = round(self.data.price.iloc[bar], 5)\n",
    "        spread = round(self.data.spread.iloc[bar], 5)\n",
    "        return date, price, spread\n",
    "    \n",
    "    def print_current_balance(self, bar):\n",
    "        date, price, spread = self.get_values(bar)\n",
    "        print(\"{} | Current Balance: {}\".format(date, round(self.current_balance, 2)))\n",
    "        \n",
    "    def buy_instrument(self, bar, units = None, amount = None):\n",
    "        date, price, spread = self.get_values(bar)\n",
    "        if self.use_spread:\n",
    "            price += spread/2 # ask price\n",
    "        if amount is not None: # use units if units are passed, otherwise calculate units\n",
    "            units = int(amount / price)\n",
    "        self.current_balance -= units * price # reduce cash balance by \"purchase price\"\n",
    "        self.units += units\n",
    "        self.trades += 1\n",
    "        print(\"{} |  Buying {} for {}\".format(date, units, round(price, 5)))\n",
    "    \n",
    "    def sell_instrument(self, bar, units = None, amount = None):\n",
    "        date, price, spread = self.get_values(bar)\n",
    "        if self.use_spread:\n",
    "            price -= spread/2 # bid price\n",
    "        if amount is not None: # use units if units are passed, otherwise calculate units\n",
    "            units = int(amount / price)\n",
    "        self.current_balance += units * price # increases cash balance by \"purchase price\"\n",
    "        self.units -= units\n",
    "        self.trades += 1\n",
    "        print(\"{} |  Selling {} for {}\".format(date, units, round(price, 5)))\n",
    "    \n",
    "    def print_current_position_value(self, bar):\n",
    "        date, price, spread = self.get_values(bar)\n",
    "        cpv = self.units * price\n",
    "        print(\"{} |  Current Position Value = {}\".format(date, round(cpv, 2)))\n",
    "    \n",
    "    def print_current_nav(self, bar):\n",
    "        date, price, spread = self.get_values(bar)\n",
    "        nav = self.current_balance + self.units * price\n",
    "        print(\"{} |  Net Asset Value = {}\".format(date, round(nav, 2)))\n",
    "        \n",
    "    def close_pos(self, bar):\n",
    "        date, price, spread = self.get_values(bar)\n",
    "        print(75 * \"-\")\n",
    "        print(\"{} | +++ CLOSING FINAL POSITION +++\".format(date))\n",
    "        self.current_balance += self.units * price # closing final position (works with short and long!)\n",
    "        self.current_balance -= (abs(self.units) * spread/2 * self.use_spread) # substract half-spread costs\n",
    "        print(\"{} | closing position of {} for {}\".format(date, self.units, price))\n",
    "        self.units = 0 # setting position to neutral\n",
    "        self.trades += 1\n",
    "        perf = (self.current_balance - self.initial_balance) / self.initial_balance * 100\n",
    "        self.print_current_balance(bar)\n",
    "        print(\"{} | net performance (%) = {}\".format(date, round(perf, 2) ))\n",
    "        print(\"{} | number of trades executed = {}\".format(date, self.trades))\n",
    "        print(75 * \"-\")"
   ]
  },
  {
   "cell_type": "code",
   "execution_count": null,
   "metadata": {},
   "outputs": [],
   "source": [
    "class IterativeBacktest(IterativeBase):\n",
    "\n",
    "    # helper method\n",
    "    def go_long(self, bar, units = None, amount = None):\n",
    "        if self.position == -1:\n",
    "            self.buy_instrument(bar, units = -self.units) # if short position, go neutral first\n",
    "        if units:\n",
    "            self.buy_instrument(bar, units = units)\n",
    "        elif amount:\n",
    "            if amount == \"all\":\n",
    "                amount = self.current_balance\n",
    "            self.buy_instrument(bar, amount = amount) # go long\n",
    "\n",
    "    # helper method\n",
    "    def go_short(self, bar, units = None, amount = None):\n",
    "        if self.position == 1:\n",
    "            self.sell_instrument(bar, units = self.units) # if long position, go neutral first\n",
    "        if units:\n",
    "            self.sell_instrument(bar, units = units)\n",
    "        elif amount:\n",
    "            if amount == \"all\":\n",
    "                amount = self.current_balance\n",
    "            self.sell_instrument(bar, amount = amount) # go short\n",
    "\n",
    "    def test_sma_strategy(self, SMA_S, SMA_L):\n",
    "        \n",
    "        # nice printout\n",
    "        stm = \"Testing SMA strategy | {} | SMA_S = {} & SMA_L = {}\".format(self.symbol, SMA_S, SMA_L)\n",
    "        print(\"-\" * 75)\n",
    "        print(stm)\n",
    "        print(\"-\" * 75)\n",
    "        \n",
    "        # reset \n",
    "        self.position = 0  # initial neutral position\n",
    "        self.trades = 0  # no trades yet\n",
    "        self.current_balance = self.initial_balance  # reset initial capital\n",
    "        self.get_data() # reset dataset\n",
    "        \n",
    "        # prepare data\n",
    "        self.data[\"SMA_S\"] = self.data[\"price\"].rolling(SMA_S).mean()\n",
    "        self.data[\"SMA_L\"] = self.data[\"price\"].rolling(SMA_L).mean()\n",
    "        self.data.dropna(inplace = True)\n",
    "\n",
    "        # sma crossover strategy\n",
    "        for bar in range(len(self.data)-1): # all bars (except the last bar)\n",
    "            if self.data[\"SMA_S\"].iloc[bar] > self.data[\"SMA_L\"].iloc[bar]: # signal to go long\n",
    "                if self.position in [0, -1]:\n",
    "                    self.go_long(bar, amount = \"all\") # go long with full amount\n",
    "                    self.position = 1  # long position\n",
    "            elif self.data[\"SMA_S\"].iloc[bar] < self.data[\"SMA_L\"].iloc[bar]: # signal to go short\n",
    "                if self.position in [0, 1]:\n",
    "                    self.go_short(bar, amount = \"all\") # go short with full amount\n",
    "                    self.position = -1 # short position\n",
    "        self.close_pos(bar+1) # close position at the last bar"
   ]
  },
  {
   "cell_type": "code",
   "execution_count": null,
   "metadata": {},
   "outputs": [],
   "source": [
    "bc = IterativeBacktest(\"EURUSD\", \"2006-12-31\", \"2020-06-30\", 100000, use_spread= True)"
   ]
  },
  {
   "cell_type": "code",
   "execution_count": null,
   "metadata": {},
   "outputs": [],
   "source": [
    "bc.data"
   ]
  },
  {
   "cell_type": "code",
   "execution_count": null,
   "metadata": {},
   "outputs": [],
   "source": [
    "bc.test_sma_strategy(50, 200)"
   ]
  },
  {
   "cell_type": "code",
   "execution_count": null,
   "metadata": {},
   "outputs": [],
   "source": []
  },
  {
   "cell_type": "markdown",
   "metadata": {},
   "source": [
    "## Using Modules and adding Docstrings"
   ]
  },
  {
   "cell_type": "code",
   "execution_count": null,
   "metadata": {},
   "outputs": [],
   "source": [
    "import IterativeBacktest as IB"
   ]
  },
  {
   "cell_type": "code",
   "execution_count": null,
   "metadata": {},
   "outputs": [],
   "source": [
    "bc = IB.IterativeBacktest(\"EURUSD\", \"2006-12-31\", \"2020-06-30\", 100000, use_spread = True)"
   ]
  },
  {
   "cell_type": "code",
   "execution_count": null,
   "metadata": {},
   "outputs": [],
   "source": [
    "bc.data"
   ]
  },
  {
   "cell_type": "code",
   "execution_count": null,
   "metadata": {},
   "outputs": [],
   "source": [
    "bc.test_sma_strategy(50, 200)"
   ]
  },
  {
   "cell_type": "code",
   "execution_count": null,
   "metadata": {},
   "outputs": [],
   "source": []
  },
  {
   "cell_type": "markdown",
   "metadata": {},
   "source": [
    "## Adding Contrarian and Bollinger Strategy to the Framework"
   ]
  },
  {
   "cell_type": "code",
   "execution_count": null,
   "metadata": {},
   "outputs": [],
   "source": [
    "import IterativeBacktest as IB"
   ]
  },
  {
   "cell_type": "code",
   "execution_count": null,
   "metadata": {},
   "outputs": [],
   "source": [
    "bc = IB.IterativeBacktest(\"EURUSD\", \"2006-12-31\", \"2020-06-30\", 100000, use_spread= True)"
   ]
  },
  {
   "cell_type": "code",
   "execution_count": null,
   "metadata": {},
   "outputs": [],
   "source": [
    "bc.data"
   ]
  },
  {
   "cell_type": "markdown",
   "metadata": {},
   "source": [
    "__Contrarian__"
   ]
  },
  {
   "cell_type": "code",
   "execution_count": null,
   "metadata": {
    "scrolled": false
   },
   "outputs": [],
   "source": [
    "bc.test_con_strategy(window = 3)"
   ]
  },
  {
   "cell_type": "markdown",
   "metadata": {},
   "source": [
    "__Bollinger__"
   ]
  },
  {
   "cell_type": "code",
   "execution_count": null,
   "metadata": {
    "scrolled": false
   },
   "outputs": [],
   "source": [
    "bc.test_boll_strategy(50, 2)"
   ]
  },
  {
   "cell_type": "code",
   "execution_count": null,
   "metadata": {},
   "outputs": [],
   "source": []
  }
 ],
 "metadata": {
  "kernelspec": {
   "display_name": "Python 3",
   "language": "python",
   "name": "python3"
  },
  "language_info": {
   "codemirror_mode": {
    "name": "ipython",
    "version": 3
   },
   "file_extension": ".py",
   "mimetype": "text/x-python",
   "name": "python",
   "nbconvert_exporter": "python",
   "pygments_lexer": "ipython3",
   "version": "3.8.5"
  }
 },
 "nbformat": 4,
 "nbformat_minor": 4
}
